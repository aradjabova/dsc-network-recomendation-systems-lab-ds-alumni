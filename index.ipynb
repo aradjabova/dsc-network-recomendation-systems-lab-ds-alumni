{
 "cells": [
  {
   "cell_type": "markdown",
   "metadata": {},
   "source": [
    "# Amazon Recommendation System - Lab\n",
    "\n",
    "## Introduction\n",
    "\n",
    "Now that you've gotten an introduction to collaborative filtering and recommendation systems, it's time to put your skills to test and build a recommendation system for a real world dataset! For this lab, you'll be using a dataset regarding the book reviews on the Amazon marketplace. While the previous lesson focused on user-based recommendation systems, you'll apply a parallel process for an item-based recommendation system to recommend similar books at the bottom of the product page.\n",
    "\n",
    "## Objectives\n",
    "\n",
    "In this lab you will: \n",
    "\n",
    "- Use graph-based similarity metrics to create a collaborative filtering recommender system"
   ]
  },
  {
   "cell_type": "markdown",
   "metadata": {},
   "source": [
    "## Load the Dataset"
   ]
  },
  {
   "cell_type": "code",
   "execution_count": 1,
   "metadata": {},
   "outputs": [
    {
     "data": {
      "text/html": [
       "<div>\n",
       "<style scoped>\n",
       "    .dataframe tbody tr th:only-of-type {\n",
       "        vertical-align: middle;\n",
       "    }\n",
       "\n",
       "    .dataframe tbody tr th {\n",
       "        vertical-align: top;\n",
       "    }\n",
       "\n",
       "    .dataframe thead th {\n",
       "        text-align: right;\n",
       "    }\n",
       "</style>\n",
       "<table border=\"1\" class=\"dataframe\">\n",
       "  <thead>\n",
       "    <tr style=\"text-align: right;\">\n",
       "      <th></th>\n",
       "      <th>source</th>\n",
       "      <th>target</th>\n",
       "      <th>weight</th>\n",
       "    </tr>\n",
       "  </thead>\n",
       "  <tbody>\n",
       "    <tr>\n",
       "      <th>0</th>\n",
       "      <td>0827229534</td>\n",
       "      <td>0804215715</td>\n",
       "      <td>0.7</td>\n",
       "    </tr>\n",
       "    <tr>\n",
       "      <th>1</th>\n",
       "      <td>0827229534</td>\n",
       "      <td>156101074X</td>\n",
       "      <td>0.5</td>\n",
       "    </tr>\n",
       "    <tr>\n",
       "      <th>2</th>\n",
       "      <td>0827229534</td>\n",
       "      <td>0687023955</td>\n",
       "      <td>0.8</td>\n",
       "    </tr>\n",
       "    <tr>\n",
       "      <th>3</th>\n",
       "      <td>0827229534</td>\n",
       "      <td>0687074231</td>\n",
       "      <td>0.8</td>\n",
       "    </tr>\n",
       "    <tr>\n",
       "      <th>4</th>\n",
       "      <td>0827229534</td>\n",
       "      <td>082721619X</td>\n",
       "      <td>0.7</td>\n",
       "    </tr>\n",
       "  </tbody>\n",
       "</table>\n",
       "</div>"
      ],
      "text/plain": [
       "       source      target  weight\n",
       "0  0827229534  0804215715     0.7\n",
       "1  0827229534  156101074X     0.5\n",
       "2  0827229534  0687023955     0.8\n",
       "3  0827229534  0687074231     0.8\n",
       "4  0827229534  082721619X     0.7"
      ]
     },
     "execution_count": 1,
     "metadata": {},
     "output_type": "execute_result"
    }
   ],
   "source": [
    "import pandas as pd\n",
    "import networkx as nx\n",
    "G = nx.Graph()\n",
    "\n",
    "df = pd.read_csv('books_data.edgelist', names=['source', 'target', 'weight'], delimiter=' ')\n",
    "df.head()"
   ]
  },
  {
   "cell_type": "markdown",
   "metadata": {},
   "source": [
    "## Load the Metadata \n",
    "\n",
    "Import the metadata available in the file `'books_meta.txt'` (note it is `'\\t'` seperated). "
   ]
  },
  {
   "cell_type": "code",
   "execution_count": 2,
   "metadata": {},
   "outputs": [
    {
     "name": "stdout",
     "output_type": "stream",
     "text": [
      "Recommendations for: A Game of Thrones (A Song of Ice and Fire, Book 1)\n",
      "('A Clash of Kings (A Song of Ice and Fire, Book 2)', 1.0)\n",
      "('A Feast for Crows (A Song of Ice and Fire, Book 4)', 0.92)\n",
      "('A Storm of Swords (A Song of Ice and Fire, Book 3)', 0.85)\n",
      "(\"Assassin's Apprentice (The Farseer Trilogy, Book 1)\", 0.56)\n",
      "\n",
      "\n",
      "\n",
      "Recommendations for: Thrones, Dominations\n",
      "('Have His Carcase', 0.59)\n",
      "('The Nine Tailors', 0.58)\n",
      "('Strong Poison', 0.55)\n",
      "(\"Busman's Honeymoon\", 0.55)\n",
      "\n",
      "\n",
      "\n",
      "Recommendations for: A Game of Thrones (A Song of Ice and Fire, Book 1)\n",
      "('A Storm of Swords : Book Three of A Song of Ice and Fire (A Song of Ice and Fire, Book 3)', 1.0)\n",
      "('A Storm of Swords (A Song of Ice and Fire, Book 3)', 1.0)\n",
      "('A Clash of Kings (A Song of Ice and Fire, Book 2)', 1.0)\n",
      "('A Feast for Crows (A Song of Ice and Fire, Book 4)', 0.92)\n",
      "('A Storm of Swords (A Song of Ice and Fire, Book 3)', 0.85)\n",
      "(\"Assassin's Apprentice (The Farseer Trilogy, Book 1)\", 0.56)\n",
      "('The Fourth Tower of Inverness', 0.24)\n",
      "\n",
      "\n",
      "\n",
      "Recommendations for: A Game of Thrones (A Song of Ice and Fire, Book 1)\n",
      "('A Clash of Kings (A Song of Ice and Fire, Book 2)', 1.0)\n",
      "('A Feast for Crows (A Song of Ice and Fire, Book 4)', 0.92)\n",
      "('A Storm of Swords (A Song of Ice and Fire, Book 3)', 0.85)\n",
      "(\"Assassin's Apprentice (The Farseer Trilogy, Book 1)\", 0.56)\n",
      "\n",
      "\n",
      "\n",
      "Recommendations for: Thrones, Dominations (A Lord Wimsey Mystery)\n",
      "('Have His Carcase', 0.93)\n",
      "('Strong Poison', 0.86)\n",
      "(\"Busman's Honeymoon\", 0.86)\n",
      "('A Presumption of Death (Mystery Masters Series)', 0.75)\n",
      "('A Presumption of Death: A New Lord Peter Wimsey/Harriet Vane Mystery', 0.71)\n",
      "('The Nine Tailors', 0.67)\n",
      "('A Presumption of Death (Mystery Masters Series)', 0.63)\n",
      "\n",
      "\n",
      "\n"
     ]
    }
   ],
   "source": [
    "# Your code here\n",
    "meta = pd.read_csv('books_meta.txt', sep='\\t')\n",
    "meta.head()\n",
    "GOT = meta[meta.Title.str.contains('Thrones')]\n",
    "GOT\n",
    "# What does our recommender return for these books?\n",
    "rec_dict = {}\n",
    "id_name_dict = dict(zip(meta.ASIN, meta.Title))\n",
    "for row in GOT.index:\n",
    "    book_id = GOT.ASIN[row]\n",
    "    book_name = id_name_dict[book_id]\n",
    "    most_similar = df[(df.source == book_id)\n",
    "                      | (df.target == book_id)\n",
    "                     ].sort_values(by='weight', ascending=False).head(10)\n",
    "    most_similar['source_name'] = most_similar['source'].map(id_name_dict)\n",
    "    most_similar['target_name'] = most_similar['target'].map(id_name_dict)\n",
    "    recommendations = []\n",
    "    for row in most_similar.index:\n",
    "        if most_similar.source[row] == book_id:\n",
    "            recommendations.append((most_similar.target_name[row], most_similar.weight[row]))\n",
    "        else:\n",
    "            recommendations.append((most_similar.source_name[row], most_similar.weight[row]))\n",
    "    rec_dict[book_name] = recommendations\n",
    "    print('Recommendations for:', book_name)\n",
    "    for r in recommendations:\n",
    "        print(r)\n",
    "    print('\\n\\n')"
   ]
  },
  {
   "cell_type": "markdown",
   "metadata": {},
   "source": [
    "## Select Books to Test Your Recommender On\n",
    "\n",
    "Select a small subset of books that you are interested in generating recommendations for. "
   ]
  },
  {
   "cell_type": "code",
   "execution_count": null,
   "metadata": {},
   "outputs": [],
   "source": [
    "# Your code here"
   ]
  },
  {
   "cell_type": "markdown",
   "metadata": {},
   "source": [
    "## Generate Recommendations for a Few Books of Choice\n",
    "\n",
    "The `'books_data.edgelist'` has conveniently already calculated the distance between items for you. Given this preprocessed data, it's time to employ collaborative filtering to generate recommendations! Generate the top 10 recommendations for each book in the subset you chose. Be sure to print the book name that you are generating recommendations for as well as the name of the books being recommended. "
   ]
  },
  {
   "cell_type": "code",
   "execution_count": null,
   "metadata": {},
   "outputs": [],
   "source": [
    "# Your code here"
   ]
  },
  {
   "cell_type": "markdown",
   "metadata": {},
   "source": [
    "## Summary\n",
    "\n",
    "Well done! In this lab, you effectively created a recommendation system for a real world dataset!"
   ]
  }
 ],
 "metadata": {
  "kernelspec": {
   "display_name": "Python 3",
   "language": "python",
   "name": "python3"
  },
  "language_info": {
   "codemirror_mode": {
    "name": "ipython",
    "version": 3
   },
   "file_extension": ".py",
   "mimetype": "text/x-python",
   "name": "python",
   "nbconvert_exporter": "python",
   "pygments_lexer": "ipython3",
   "version": "3.6.12"
  },
  "toc": {
   "base_numbering": 1,
   "nav_menu": {},
   "number_sections": true,
   "sideBar": true,
   "skip_h1_title": false,
   "title_cell": "Table of Contents",
   "title_sidebar": "Contents",
   "toc_cell": false,
   "toc_position": {},
   "toc_section_display": true,
   "toc_window_display": false
  }
 },
 "nbformat": 4,
 "nbformat_minor": 2
}
